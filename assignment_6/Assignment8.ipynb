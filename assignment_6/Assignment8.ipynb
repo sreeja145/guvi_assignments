{
  "cells": [
    {
      "cell_type": "markdown",
      "metadata": {
        "id": "ur0pHSlV8k7M"
      },
      "source": [
        "# Assignment8"
      ]
    },
    {
      "cell_type": "code",
      "execution_count": 2,
      "metadata": {
        "collapsed": true,
        "id": "WBS9P9tp8k7Q"
      },
      "outputs": [],
      "source": [
        "import pandas as pd\n",
        "import matplotlib.pyplot as plt\n",
        "import numpy as np\n",
        "from sklearn import linear_model"
      ]
    },
    {
      "cell_type": "markdown",
      "metadata": {
        "id": "sdz9l24I8k7S"
      },
      "source": [
        "# How Much is Your Car Worth?\n",
        "\n",
        "Data about the retail price of 2005 General Motors cars can be found in `car_data.csv`.\n",
        "\n",
        "The columns are:\n",
        "\n",
        "1. Price: suggested retail price of the used 2005 GM car in excellent condition.\n",
        "2. Mileage: number of miles the car has been driven\n",
        "3. Make: manufacturer of the car such as Saturn, Pontiac, and Chevrolet\n",
        "4. Model: specific models for each car manufacturer such as Ion, Vibe, Cavalier\n",
        "5. Trim (of car): specific type of car model such as SE Sedan 4D, Quad Coupe 2D          \n",
        "6. Type: body type such as sedan, coupe, etc.      \n",
        "7. Cylinder: number of cylinders in the engine        \n",
        "8. Liter: a more specific measure of engine size     \n",
        "9. Doors: number of doors           \n",
        "10. Cruise: indicator variable representing whether the car has cruise control (1 = cruise)\n",
        "11. Sound: indicator variable representing whether the car has upgraded speakers (1 = upgraded)\n",
        "12. Leather: indicator variable representing whether the car has leather seats (1 = leather)\n",
        "\n",
        "## Tasks, Part 1\n",
        "\n",
        "1. Find the linear regression equation for mileage vs price.\n",
        "2. Chart the original data and the equation on the chart.\n",
        "3. Find the equation's $R^2$ score (use the `.score` method) to determine whether the\n",
        "equation is a good fit for this data. (0.8 and greater is considered a strong correlation.)\n",
        "\n",
        "## Tasks, Part 2\n",
        "\n",
        "1. Use mileage, cylinders, liters, doors, cruise, sound, and leather to find the linear regression equation.\n",
        "2. Find the equation's $R^2$ score (use the `.score` method) to determine whether the\n",
        "equation is a good fit for this data. (0.8 and greater is considered a strong correlation.)\n",
        "3. Find the combination of the factors that is the best predictor for price.\n",
        "\n",
        "## Tasks, Hard Mode\n",
        "\n",
        "1. Research dummy variables in scikit-learn to see how to use the make, model, and body type.\n",
        "2. Find the best combination of factors to predict price."
      ]
    },
    {
      "cell_type": "code",
      "execution_count": 3,
      "metadata": {
        "id": "dkQe-Fur8k7S"
      },
      "outputs": [],
      "source": [
        "df = pd.read_csv(\"/content/sample_data/car_data.csv\")"
      ]
    },
    {
      "cell_type": "code",
      "source": [
        "df.head()"
      ],
      "metadata": {
        "colab": {
          "base_uri": "https://localhost:8080/",
          "height": 206
        },
        "id": "r7x01jMq9K-7",
        "outputId": "52d7e99d-7e36-404f-f170-56f05a13323f"
      },
      "execution_count": 4,
      "outputs": [
        {
          "output_type": "execute_result",
          "data": {
            "text/plain": [
              "          Price  Mileage   Make    Model      Trim   Type  Cylinder  Liter  \\\n",
              "0  17314.103129     8221  Buick  Century  Sedan 4D  Sedan         6    3.1   \n",
              "1  17542.036083     9135  Buick  Century  Sedan 4D  Sedan         6    3.1   \n",
              "2  16218.847862    13196  Buick  Century  Sedan 4D  Sedan         6    3.1   \n",
              "3  16336.913140    16342  Buick  Century  Sedan 4D  Sedan         6    3.1   \n",
              "4  16339.170324    19832  Buick  Century  Sedan 4D  Sedan         6    3.1   \n",
              "\n",
              "   Doors  Cruise  Sound  Leather  \n",
              "0      4       1      1        1  \n",
              "1      4       1      1        0  \n",
              "2      4       1      1        0  \n",
              "3      4       1      0        0  \n",
              "4      4       1      0        1  "
            ],
            "text/html": [
              "\n",
              "  <div id=\"df-4ea317b1-c194-4957-ba7d-a17cd0339a77\">\n",
              "    <div class=\"colab-df-container\">\n",
              "      <div>\n",
              "<style scoped>\n",
              "    .dataframe tbody tr th:only-of-type {\n",
              "        vertical-align: middle;\n",
              "    }\n",
              "\n",
              "    .dataframe tbody tr th {\n",
              "        vertical-align: top;\n",
              "    }\n",
              "\n",
              "    .dataframe thead th {\n",
              "        text-align: right;\n",
              "    }\n",
              "</style>\n",
              "<table border=\"1\" class=\"dataframe\">\n",
              "  <thead>\n",
              "    <tr style=\"text-align: right;\">\n",
              "      <th></th>\n",
              "      <th>Price</th>\n",
              "      <th>Mileage</th>\n",
              "      <th>Make</th>\n",
              "      <th>Model</th>\n",
              "      <th>Trim</th>\n",
              "      <th>Type</th>\n",
              "      <th>Cylinder</th>\n",
              "      <th>Liter</th>\n",
              "      <th>Doors</th>\n",
              "      <th>Cruise</th>\n",
              "      <th>Sound</th>\n",
              "      <th>Leather</th>\n",
              "    </tr>\n",
              "  </thead>\n",
              "  <tbody>\n",
              "    <tr>\n",
              "      <th>0</th>\n",
              "      <td>17314.103129</td>\n",
              "      <td>8221</td>\n",
              "      <td>Buick</td>\n",
              "      <td>Century</td>\n",
              "      <td>Sedan 4D</td>\n",
              "      <td>Sedan</td>\n",
              "      <td>6</td>\n",
              "      <td>3.1</td>\n",
              "      <td>4</td>\n",
              "      <td>1</td>\n",
              "      <td>1</td>\n",
              "      <td>1</td>\n",
              "    </tr>\n",
              "    <tr>\n",
              "      <th>1</th>\n",
              "      <td>17542.036083</td>\n",
              "      <td>9135</td>\n",
              "      <td>Buick</td>\n",
              "      <td>Century</td>\n",
              "      <td>Sedan 4D</td>\n",
              "      <td>Sedan</td>\n",
              "      <td>6</td>\n",
              "      <td>3.1</td>\n",
              "      <td>4</td>\n",
              "      <td>1</td>\n",
              "      <td>1</td>\n",
              "      <td>0</td>\n",
              "    </tr>\n",
              "    <tr>\n",
              "      <th>2</th>\n",
              "      <td>16218.847862</td>\n",
              "      <td>13196</td>\n",
              "      <td>Buick</td>\n",
              "      <td>Century</td>\n",
              "      <td>Sedan 4D</td>\n",
              "      <td>Sedan</td>\n",
              "      <td>6</td>\n",
              "      <td>3.1</td>\n",
              "      <td>4</td>\n",
              "      <td>1</td>\n",
              "      <td>1</td>\n",
              "      <td>0</td>\n",
              "    </tr>\n",
              "    <tr>\n",
              "      <th>3</th>\n",
              "      <td>16336.913140</td>\n",
              "      <td>16342</td>\n",
              "      <td>Buick</td>\n",
              "      <td>Century</td>\n",
              "      <td>Sedan 4D</td>\n",
              "      <td>Sedan</td>\n",
              "      <td>6</td>\n",
              "      <td>3.1</td>\n",
              "      <td>4</td>\n",
              "      <td>1</td>\n",
              "      <td>0</td>\n",
              "      <td>0</td>\n",
              "    </tr>\n",
              "    <tr>\n",
              "      <th>4</th>\n",
              "      <td>16339.170324</td>\n",
              "      <td>19832</td>\n",
              "      <td>Buick</td>\n",
              "      <td>Century</td>\n",
              "      <td>Sedan 4D</td>\n",
              "      <td>Sedan</td>\n",
              "      <td>6</td>\n",
              "      <td>3.1</td>\n",
              "      <td>4</td>\n",
              "      <td>1</td>\n",
              "      <td>0</td>\n",
              "      <td>1</td>\n",
              "    </tr>\n",
              "  </tbody>\n",
              "</table>\n",
              "</div>\n",
              "      <button class=\"colab-df-convert\" onclick=\"convertToInteractive('df-4ea317b1-c194-4957-ba7d-a17cd0339a77')\"\n",
              "              title=\"Convert this dataframe to an interactive table.\"\n",
              "              style=\"display:none;\">\n",
              "        \n",
              "  <svg xmlns=\"http://www.w3.org/2000/svg\" height=\"24px\"viewBox=\"0 0 24 24\"\n",
              "       width=\"24px\">\n",
              "    <path d=\"M0 0h24v24H0V0z\" fill=\"none\"/>\n",
              "    <path d=\"M18.56 5.44l.94 2.06.94-2.06 2.06-.94-2.06-.94-.94-2.06-.94 2.06-2.06.94zm-11 1L8.5 8.5l.94-2.06 2.06-.94-2.06-.94L8.5 2.5l-.94 2.06-2.06.94zm10 10l.94 2.06.94-2.06 2.06-.94-2.06-.94-.94-2.06-.94 2.06-2.06.94z\"/><path d=\"M17.41 7.96l-1.37-1.37c-.4-.4-.92-.59-1.43-.59-.52 0-1.04.2-1.43.59L10.3 9.45l-7.72 7.72c-.78.78-.78 2.05 0 2.83L4 21.41c.39.39.9.59 1.41.59.51 0 1.02-.2 1.41-.59l7.78-7.78 2.81-2.81c.8-.78.8-2.07 0-2.86zM5.41 20L4 18.59l7.72-7.72 1.47 1.35L5.41 20z\"/>\n",
              "  </svg>\n",
              "      </button>\n",
              "      \n",
              "  <style>\n",
              "    .colab-df-container {\n",
              "      display:flex;\n",
              "      flex-wrap:wrap;\n",
              "      gap: 12px;\n",
              "    }\n",
              "\n",
              "    .colab-df-convert {\n",
              "      background-color: #E8F0FE;\n",
              "      border: none;\n",
              "      border-radius: 50%;\n",
              "      cursor: pointer;\n",
              "      display: none;\n",
              "      fill: #1967D2;\n",
              "      height: 32px;\n",
              "      padding: 0 0 0 0;\n",
              "      width: 32px;\n",
              "    }\n",
              "\n",
              "    .colab-df-convert:hover {\n",
              "      background-color: #E2EBFA;\n",
              "      box-shadow: 0px 1px 2px rgba(60, 64, 67, 0.3), 0px 1px 3px 1px rgba(60, 64, 67, 0.15);\n",
              "      fill: #174EA6;\n",
              "    }\n",
              "\n",
              "    [theme=dark] .colab-df-convert {\n",
              "      background-color: #3B4455;\n",
              "      fill: #D2E3FC;\n",
              "    }\n",
              "\n",
              "    [theme=dark] .colab-df-convert:hover {\n",
              "      background-color: #434B5C;\n",
              "      box-shadow: 0px 1px 3px 1px rgba(0, 0, 0, 0.15);\n",
              "      filter: drop-shadow(0px 1px 2px rgba(0, 0, 0, 0.3));\n",
              "      fill: #FFFFFF;\n",
              "    }\n",
              "  </style>\n",
              "\n",
              "      <script>\n",
              "        const buttonEl =\n",
              "          document.querySelector('#df-4ea317b1-c194-4957-ba7d-a17cd0339a77 button.colab-df-convert');\n",
              "        buttonEl.style.display =\n",
              "          google.colab.kernel.accessAllowed ? 'block' : 'none';\n",
              "\n",
              "        async function convertToInteractive(key) {\n",
              "          const element = document.querySelector('#df-4ea317b1-c194-4957-ba7d-a17cd0339a77');\n",
              "          const dataTable =\n",
              "            await google.colab.kernel.invokeFunction('convertToInteractive',\n",
              "                                                     [key], {});\n",
              "          if (!dataTable) return;\n",
              "\n",
              "          const docLinkHtml = 'Like what you see? Visit the ' +\n",
              "            '<a target=\"_blank\" href=https://colab.research.google.com/notebooks/data_table.ipynb>data table notebook</a>'\n",
              "            + ' to learn more about interactive tables.';\n",
              "          element.innerHTML = '';\n",
              "          dataTable['output_type'] = 'display_data';\n",
              "          await google.colab.output.renderOutput(dataTable, element);\n",
              "          const docLink = document.createElement('div');\n",
              "          docLink.innerHTML = docLinkHtml;\n",
              "          element.appendChild(docLink);\n",
              "        }\n",
              "      </script>\n",
              "    </div>\n",
              "  </div>\n",
              "  "
            ]
          },
          "metadata": {},
          "execution_count": 4
        }
      ]
    },
    {
      "cell_type": "code",
      "source": [
        "df.info()"
      ],
      "metadata": {
        "colab": {
          "base_uri": "https://localhost:8080/"
        },
        "id": "LCjF6y8n9NpA",
        "outputId": "6897c05d-fb8d-4278-cb04-775ce8200a22"
      },
      "execution_count": 5,
      "outputs": [
        {
          "output_type": "stream",
          "name": "stdout",
          "text": [
            "<class 'pandas.core.frame.DataFrame'>\n",
            "RangeIndex: 804 entries, 0 to 803\n",
            "Data columns (total 12 columns):\n",
            " #   Column    Non-Null Count  Dtype  \n",
            "---  ------    --------------  -----  \n",
            " 0   Price     804 non-null    float64\n",
            " 1   Mileage   804 non-null    int64  \n",
            " 2   Make      804 non-null    object \n",
            " 3   Model     804 non-null    object \n",
            " 4   Trim      804 non-null    object \n",
            " 5   Type      804 non-null    object \n",
            " 6   Cylinder  804 non-null    int64  \n",
            " 7   Liter     804 non-null    float64\n",
            " 8   Doors     804 non-null    int64  \n",
            " 9   Cruise    804 non-null    int64  \n",
            " 10  Sound     804 non-null    int64  \n",
            " 11  Leather   804 non-null    int64  \n",
            "dtypes: float64(2), int64(6), object(4)\n",
            "memory usage: 75.5+ KB\n"
          ]
        }
      ]
    },
    {
      "cell_type": "code",
      "source": [
        "df.shape"
      ],
      "metadata": {
        "colab": {
          "base_uri": "https://localhost:8080/"
        },
        "id": "nPnUtKV89Tmb",
        "outputId": "e5a4a71b-ccd4-42f0-cb4f-a3e123113494"
      },
      "execution_count": 6,
      "outputs": [
        {
          "output_type": "execute_result",
          "data": {
            "text/plain": [
              "(804, 12)"
            ]
          },
          "metadata": {},
          "execution_count": 6
        }
      ]
    },
    {
      "cell_type": "code",
      "source": [
        "from sklearn.linear_model import LinearRegression\n",
        "from sklearn.metrics import r2_score\n",
        "X = df['Mileage'].values.reshape(-1,1)\n",
        "Y = df['Price'].values.reshape(-1,1)\n",
        "model = LinearRegression()\n",
        "model.fit(X,Y)\n",
        "print(\"Intercept:{} ,Coefficients:{}\".format(model.intercept_, model.coef_))"
      ],
      "metadata": {
        "colab": {
          "base_uri": "https://localhost:8080/"
        },
        "id": "Fso0Txl29VE9",
        "outputId": "b979babd-2ff2-477a-e43a-4c3a2c2d81ea"
      },
      "execution_count": 7,
      "outputs": [
        {
          "output_type": "stream",
          "name": "stdout",
          "text": [
            "Intercept:[24764.55900606] ,Coefficients:[[-0.1725205]]\n"
          ]
        }
      ]
    },
    {
      "cell_type": "code",
      "source": [
        "eq = \"y = {}*x  + {}\".format(model.coef_[0],model.intercept_)\n",
        "print(\"The linear equation for the data is \\n\",eq)"
      ],
      "metadata": {
        "colab": {
          "base_uri": "https://localhost:8080/"
        },
        "id": "qFeM4Ssr9aTg",
        "outputId": "c6dc3944-900c-4fea-de53-999eb3a1149c"
      },
      "execution_count": 8,
      "outputs": [
        {
          "output_type": "stream",
          "name": "stdout",
          "text": [
            "The linear equation for the data is \n",
            " y = [-0.1725205]*x  + [24764.55900606]\n"
          ]
        }
      ]
    },
    {
      "cell_type": "code",
      "source": [
        "plt.scatter(X,Y)\n",
        "plt.plot(X, model.predict(X), color=\"red\", linewidth=3)\n",
        "plt.xlabel(\"Mileage\")\n",
        "plt.ylabel(\"Price\")\n",
        "plt.title(\"Mileage vs Price\")\n",
        "plt.grid()\n",
        "plt.show()"
      ],
      "metadata": {
        "colab": {
          "base_uri": "https://localhost:8080/",
          "height": 295
        },
        "id": "5SddpArI9eK_",
        "outputId": "289712b5-9b0d-41d6-efa5-943677bbda4a"
      },
      "execution_count": 9,
      "outputs": [
        {
          "output_type": "display_data",
          "data": {
            "text/plain": [
              "<Figure size 432x288 with 1 Axes>"
            ],
            "image/png": "[encoded data removed]"
          },
          "metadata": {
            "needs_background": "light"
          }
        }
      ]
    },
    {
      "cell_type": "code",
      "source": [
        "model.score(X,Y)"
      ],
      "metadata": {
        "colab": {
          "base_uri": "https://localhost:8080/"
        },
        "id": "HjaLjtR_9kZr",
        "outputId": "ec705f16-48c3-4809-c2e8-3ed89dcce28e"
      },
      "execution_count": 10,
      "outputs": [
        {
          "output_type": "execute_result",
          "data": {
            "text/plain": [
              "0.02046344732348926"
            ]
          },
          "metadata": {},
          "execution_count": 10
        }
      ]
    },
    {
      "cell_type": "code",
      "source": [
        "input_cols = ['Mileage','Cylinder','Liter','Doors','Cruise','Sound','Leather']\n",
        "X = df[input_cols]"
      ],
      "metadata": {
        "id": "hrYh2rnw9loB"
      },
      "execution_count": 11,
      "outputs": []
    },
    {
      "cell_type": "code",
      "source": [
        "from sklearn.preprocessing import StandardScaler,MinMaxScaler\n",
        "func1 = MinMaxScaler(feature_range = (0,1))\n",
        "func2 = StandardScaler()\n",
        "X_norm = func1.fit_transform(X)\n",
        "func2.fit(X)\n",
        "X_stand = func2.transform(X) "
      ],
      "metadata": {
        "id": "aKVf8ocF9oOJ"
      },
      "execution_count": 12,
      "outputs": []
    },
    {
      "cell_type": "code",
      "source": [
        "Y = df['Price'].values.reshape(-1,1)\n",
        "model1 = LinearRegression()\n",
        "model1.fit(X,Y)\n",
        "print(\"Intercept:{} ,Coefficients:{}\".format(model1.intercept_, model1.coef_))\n",
        "model1.score(X,Y)"
      ],
      "metadata": {
        "colab": {
          "base_uri": "https://localhost:8080/"
        },
        "id": "nD3w8u1d9qsS",
        "outputId": "5c023b9a-e166-49f6-f4ba-ba652309191b"
      },
      "execution_count": 13,
      "outputs": [
        {
          "output_type": "stream",
          "name": "stdout",
          "text": [
            "Intercept:[6758.7551436] ,Coefficients:[[-1.69747832e-01  3.79237893e+03 -7.87220732e+02 -1.54274585e+03\n",
            "   6.28899715e+03 -1.99379528e+03  3.34936162e+03]]\n"
          ]
        },
        {
          "output_type": "execute_result",
          "data": {
            "text/plain": [
              "0.4462643536728379"
            ]
          },
          "metadata": {},
          "execution_count": 13
        }
      ]
    },
    {
      "cell_type": "code",
      "source": [
        "Y = df['Price'].values.reshape(-1,1)\n",
        "model2 = LinearRegression()\n",
        "model2.fit(X_stand,Y)\n",
        "print(\"Intercept:{} ,Coefficients:{}\".format(model2.intercept_, model2.coef_))\n",
        "model2.score(X_stand,Y)"
      ],
      "metadata": {
        "colab": {
          "base_uri": "https://localhost:8080/"
        },
        "id": "YCVE4kRh9tq1",
        "outputId": "6806d113-f4f6-4657-d88a-0901def55426"
      },
      "execution_count": 14,
      "outputs": [
        {
          "output_type": "stream",
          "name": "stdout",
          "text": [
            "Intercept:[21343.14376733] ,Coefficients:[[-1390.44199315  5258.77092032  -869.77988086 -1310.7785287\n",
            "   2714.12330837  -930.74494929  1497.42117515]]\n"
          ]
        },
        {
          "output_type": "execute_result",
          "data": {
            "text/plain": [
              "0.446264353672838"
            ]
          },
          "metadata": {},
          "execution_count": 14
        }
      ]
    },
    {
      "cell_type": "code",
      "source": [
        "Y = df['Price'].values.reshape(-1,1)\n",
        "model3 = LinearRegression()\n",
        "model3.fit(X_norm,Y)\n",
        "print(\"Intercept:{} ,Coefficients:{}\".format(model3.intercept_, model3.coef_))\n",
        "model3.score(X_norm,Y)"
      ],
      "metadata": {
        "colab": {
          "base_uri": "https://localhost:8080/"
        },
        "id": "Ho5R1mN79wX1",
        "outputId": "f4017595-3868-4264-acc9-c11f9c9281ff"
      },
      "execution_count": 15,
      "outputs": [
        {
          "output_type": "stream",
          "name": "stdout",
          "text": [
            "Intercept:[17538.07307995] ,Coefficients:[[-8507.93110436 15169.51572313 -3463.77121919 -3085.49169276\n",
            "   6288.99714985 -1993.7952757   3349.36161961]]\n"
          ]
        },
        {
          "output_type": "execute_result",
          "data": {
            "text/plain": [
              "0.446264353672838"
            ]
          },
          "metadata": {},
          "execution_count": 15
        }
      ]
    },
    {
      "cell_type": "code",
      "source": [
        "import itertools as it\n",
        "def input_combos(cols):\n",
        "    return [it.combinations(cols, n+1) for n in range(len(cols))]"
      ],
      "metadata": {
        "id": "AMYj0sIl_Fdj"
      },
      "execution_count": 23,
      "outputs": []
    },
    {
      "cell_type": "code",
      "source": [
        "combos = input_combos(input_cols)"
      ],
      "metadata": {
        "id": "jpX0X78n_Gi8"
      },
      "execution_count": 24,
      "outputs": []
    },
    {
      "cell_type": "code",
      "source": [
        "def combo_r2scores( all_combos, df, output='Price'):\n",
        "    combo_scores = {}\n",
        "    for i in range(len(list(all_combos))):\n",
        "        for j in list(all_combos[i]):\n",
        "            X = df[list(j)]\n",
        "            Y = df['Price']\n",
        "            model = LinearRegression().fit(X,Y)\n",
        "            combo_scores[model.score(X,Y)] = j\n",
        "    return combo_scores"
      ],
      "metadata": {
        "id": "HlB697oj_MP1"
      },
      "execution_count": 25,
      "outputs": []
    },
    {
      "cell_type": "markdown",
      "source": [
        "### Task Hard"
      ],
      "metadata": {
        "id": "Nv-zTAtX-QRu"
      }
    },
    {
      "cell_type": "code",
      "source": [
        "df1 = df.copy()"
      ],
      "metadata": {
        "id": "oLxBcjsQ930X"
      },
      "execution_count": 16,
      "outputs": []
    },
    {
      "cell_type": "code",
      "source": [
        "df1[['Make','Model','Type']] = df1[['Make','Model','Type']].astype('category')\n",
        "df1.dtypes"
      ],
      "metadata": {
        "colab": {
          "base_uri": "https://localhost:8080/"
        },
        "id": "9UFeUasG-Ytr",
        "outputId": "9e03286e-299d-49f2-b2e8-48f627443bb5"
      },
      "execution_count": 18,
      "outputs": [
        {
          "output_type": "execute_result",
          "data": {
            "text/plain": [
              "Price        float64\n",
              "Mileage        int64\n",
              "Make        category\n",
              "Model       category\n",
              "Trim          object\n",
              "Type        category\n",
              "Cylinder       int64\n",
              "Liter        float64\n",
              "Doors          int64\n",
              "Cruise         int64\n",
              "Sound          int64\n",
              "Leather        int64\n",
              "dtype: object"
            ]
          },
          "metadata": {},
          "execution_count": 18
        }
      ]
    },
    {
      "cell_type": "code",
      "source": [
        "df1['Make'] = df1['Make'].cat.codes\n",
        "df1['Model'] = df1['Model'].cat.codes\n",
        "df1['Type'] = df1['Type'].cat.codes"
      ],
      "metadata": {
        "id": "eQH4oV1n-cOT"
      },
      "execution_count": 19,
      "outputs": []
    },
    {
      "cell_type": "code",
      "source": [
        "df1"
      ],
      "metadata": {
        "colab": {
          "base_uri": "https://localhost:8080/",
          "height": 423
        },
        "id": "UZjUo84o-hth",
        "outputId": "48076c2e-d51b-467b-eba1-f9350d6ad179"
      },
      "execution_count": 20,
      "outputs": [
        {
          "output_type": "execute_result",
          "data": {
            "text/plain": [
              "            Price  Mileage  Make  Model           Trim  Type  Cylinder  Liter  \\\n",
              "0    17314.103129     8221     0     10       Sedan 4D     3         6    3.1   \n",
              "1    17542.036083     9135     0     10       Sedan 4D     3         6    3.1   \n",
              "2    16218.847862    13196     0     10       Sedan 4D     3         6    3.1   \n",
              "3    16336.913140    16342     0     10       Sedan 4D     3         6    3.1   \n",
              "4    16339.170324    19832     0     10       Sedan 4D     3         6    3.1   \n",
              "..            ...      ...   ...    ...            ...   ...       ...    ...   \n",
              "799  16507.070267    16229     5     21  L300 Sedan 4D     3         6    3.0   \n",
              "800  16175.957604    19095     5     21  L300 Sedan 4D     3         6    3.0   \n",
              "801  15731.132897    20484     5     21  L300 Sedan 4D     3         6    3.0   \n",
              "802  15118.893228    25979     5     21  L300 Sedan 4D     3         6    3.0   \n",
              "803  13585.636802    35662     5     21  L300 Sedan 4D     3         6    3.0   \n",
              "\n",
              "     Doors  Cruise  Sound  Leather  \n",
              "0        4       1      1        1  \n",
              "1        4       1      1        0  \n",
              "2        4       1      1        0  \n",
              "3        4       1      0        0  \n",
              "4        4       1      0        1  \n",
              "..     ...     ...    ...      ...  \n",
              "799      4       1      0        0  \n",
              "800      4       1      1        0  \n",
              "801      4       1      1        0  \n",
              "802      4       1      1        0  \n",
              "803      4       1      0        0  \n",
              "\n",
              "[804 rows x 12 columns]"
            ],
            "text/html": [
              "\n",
              "  <div id=\"df-64b83345-883e-46f5-a407-65d9f46f0148\">\n",
              "    <div class=\"colab-df-container\">\n",
              "      <div>\n",
              "<style scoped>\n",
              "    .dataframe tbody tr th:only-of-type {\n",
              "        vertical-align: middle;\n",
              "    }\n",
              "\n",
              "    .dataframe tbody tr th {\n",
              "        vertical-align: top;\n",
              "    }\n",
              "\n",
              "    .dataframe thead th {\n",
              "        text-align: right;\n",
              "    }\n",
              "</style>\n",
              "<table border=\"1\" class=\"dataframe\">\n",
              "  <thead>\n",
              "    <tr style=\"text-align: right;\">\n",
              "      <th></th>\n",
              "      <th>Price</th>\n",
              "      <th>Mileage</th>\n",
              "      <th>Make</th>\n",
              "      <th>Model</th>\n",
              "      <th>Trim</th>\n",
              "      <th>Type</th>\n",
              "      <th>Cylinder</th>\n",
              "      <th>Liter</th>\n",
              "      <th>Doors</th>\n",
              "      <th>Cruise</th>\n",
              "      <th>Sound</th>\n",
              "      <th>Leather</th>\n",
              "    </tr>\n",
              "  </thead>\n",
              "  <tbody>\n",
              "    <tr>\n",
              "      <th>0</th>\n",
              "      <td>17314.103129</td>\n",
              "      <td>8221</td>\n",
              "      <td>0</td>\n",
              "      <td>10</td>\n",
              "      <td>Sedan 4D</td>\n",
              "      <td>3</td>\n",
              "      <td>6</td>\n",
              "      <td>3.1</td>\n",
              "      <td>4</td>\n",
              "      <td>1</td>\n",
              "      <td>1</td>\n",
              "      <td>1</td>\n",
              "    </tr>\n",
              "    <tr>\n",
              "      <th>1</th>\n",
              "      <td>17542.036083</td>\n",
              "      <td>9135</td>\n",
              "      <td>0</td>\n",
              "      <td>10</td>\n",
              "      <td>Sedan 4D</td>\n",
              "      <td>3</td>\n",
              "      <td>6</td>\n",
              "      <td>3.1</td>\n",
              "      <td>4</td>\n",
              "      <td>1</td>\n",
              "      <td>1</td>\n",
              "      <td>0</td>\n",
              "    </tr>\n",
              "    <tr>\n",
              "      <th>2</th>\n",
              "      <td>16218.847862</td>\n",
              "      <td>13196</td>\n",
              "      <td>0</td>\n",
              "      <td>10</td>\n",
              "      <td>Sedan 4D</td>\n",
              "      <td>3</td>\n",
              "      <td>6</td>\n",
              "      <td>3.1</td>\n",
              "      <td>4</td>\n",
              "      <td>1</td>\n",
              "      <td>1</td>\n",
              "      <td>0</td>\n",
              "    </tr>\n",
              "    <tr>\n",
              "      <th>3</th>\n",
              "      <td>16336.913140</td>\n",
              "      <td>16342</td>\n",
              "      <td>0</td>\n",
              "      <td>10</td>\n",
              "      <td>Sedan 4D</td>\n",
              "      <td>3</td>\n",
              "      <td>6</td>\n",
              "      <td>3.1</td>\n",
              "      <td>4</td>\n",
              "      <td>1</td>\n",
              "      <td>0</td>\n",
              "      <td>0</td>\n",
              "    </tr>\n",
              "    <tr>\n",
              "      <th>4</th>\n",
              "      <td>16339.170324</td>\n",
              "      <td>19832</td>\n",
              "      <td>0</td>\n",
              "      <td>10</td>\n",
              "      <td>Sedan 4D</td>\n",
              "      <td>3</td>\n",
              "      <td>6</td>\n",
              "      <td>3.1</td>\n",
              "      <td>4</td>\n",
              "      <td>1</td>\n",
              "      <td>0</td>\n",
              "      <td>1</td>\n",
              "    </tr>\n",
              "    <tr>\n",
              "      <th>...</th>\n",
              "      <td>...</td>\n",
              "      <td>...</td>\n",
              "      <td>...</td>\n",
              "      <td>...</td>\n",
              "      <td>...</td>\n",
              "      <td>...</td>\n",
              "      <td>...</td>\n",
              "      <td>...</td>\n",
              "      <td>...</td>\n",
              "      <td>...</td>\n",
              "      <td>...</td>\n",
              "      <td>...</td>\n",
              "    </tr>\n",
              "    <tr>\n",
              "      <th>799</th>\n",
              "      <td>16507.070267</td>\n",
              "      <td>16229</td>\n",
              "      <td>5</td>\n",
              "      <td>21</td>\n",
              "      <td>L300 Sedan 4D</td>\n",
              "      <td>3</td>\n",
              "      <td>6</td>\n",
              "      <td>3.0</td>\n",
              "      <td>4</td>\n",
              "      <td>1</td>\n",
              "      <td>0</td>\n",
              "      <td>0</td>\n",
              "    </tr>\n",
              "    <tr>\n",
              "      <th>800</th>\n",
              "      <td>16175.957604</td>\n",
              "      <td>19095</td>\n",
              "      <td>5</td>\n",
              "      <td>21</td>\n",
              "      <td>L300 Sedan 4D</td>\n",
              "      <td>3</td>\n",
              "      <td>6</td>\n",
              "      <td>3.0</td>\n",
              "      <td>4</td>\n",
              "      <td>1</td>\n",
              "      <td>1</td>\n",
              "      <td>0</td>\n",
              "    </tr>\n",
              "    <tr>\n",
              "      <th>801</th>\n",
              "      <td>15731.132897</td>\n",
              "      <td>20484</td>\n",
              "      <td>5</td>\n",
              "      <td>21</td>\n",
              "      <td>L300 Sedan 4D</td>\n",
              "      <td>3</td>\n",
              "      <td>6</td>\n",
              "      <td>3.0</td>\n",
              "      <td>4</td>\n",
              "      <td>1</td>\n",
              "      <td>1</td>\n",
              "      <td>0</td>\n",
              "    </tr>\n",
              "    <tr>\n",
              "      <th>802</th>\n",
              "      <td>15118.893228</td>\n",
              "      <td>25979</td>\n",
              "      <td>5</td>\n",
              "      <td>21</td>\n",
              "      <td>L300 Sedan 4D</td>\n",
              "      <td>3</td>\n",
              "      <td>6</td>\n",
              "      <td>3.0</td>\n",
              "      <td>4</td>\n",
              "      <td>1</td>\n",
              "      <td>1</td>\n",
              "      <td>0</td>\n",
              "    </tr>\n",
              "    <tr>\n",
              "      <th>803</th>\n",
              "      <td>13585.636802</td>\n",
              "      <td>35662</td>\n",
              "      <td>5</td>\n",
              "      <td>21</td>\n",
              "      <td>L300 Sedan 4D</td>\n",
              "      <td>3</td>\n",
              "      <td>6</td>\n",
              "      <td>3.0</td>\n",
              "      <td>4</td>\n",
              "      <td>1</td>\n",
              "      <td>0</td>\n",
              "      <td>0</td>\n",
              "    </tr>\n",
              "  </tbody>\n",
              "</table>\n",
              "<p>804 rows × 12 columns</p>\n",
              "</div>\n",
              "      <button class=\"colab-df-convert\" onclick=\"convertToInteractive('df-64b83345-883e-46f5-a407-65d9f46f0148')\"\n",
              "              title=\"Convert this dataframe to an interactive table.\"\n",
              "              style=\"display:none;\">\n",
              "        \n",
              "  <svg xmlns=\"http://www.w3.org/2000/svg\" height=\"24px\"viewBox=\"0 0 24 24\"\n",
              "       width=\"24px\">\n",
              "    <path d=\"M0 0h24v24H0V0z\" fill=\"none\"/>\n",
              "    <path d=\"M18.56 5.44l.94 2.06.94-2.06 2.06-.94-2.06-.94-.94-2.06-.94 2.06-2.06.94zm-11 1L8.5 8.5l.94-2.06 2.06-.94-2.06-.94L8.5 2.5l-.94 2.06-2.06.94zm10 10l.94 2.06.94-2.06 2.06-.94-2.06-.94-.94-2.06-.94 2.06-2.06.94z\"/><path d=\"M17.41 7.96l-1.37-1.37c-.4-.4-.92-.59-1.43-.59-.52 0-1.04.2-1.43.59L10.3 9.45l-7.72 7.72c-.78.78-.78 2.05 0 2.83L4 21.41c.39.39.9.59 1.41.59.51 0 1.02-.2 1.41-.59l7.78-7.78 2.81-2.81c.8-.78.8-2.07 0-2.86zM5.41 20L4 18.59l7.72-7.72 1.47 1.35L5.41 20z\"/>\n",
              "  </svg>\n",
              "      </button>\n",
              "      \n",
              "  <style>\n",
              "    .colab-df-container {\n",
              "      display:flex;\n",
              "      flex-wrap:wrap;\n",
              "      gap: 12px;\n",
              "    }\n",
              "\n",
              "    .colab-df-convert {\n",
              "      background-color: #E8F0FE;\n",
              "      border: none;\n",
              "      border-radius: 50%;\n",
              "      cursor: pointer;\n",
              "      display: none;\n",
              "      fill: #1967D2;\n",
              "      height: 32px;\n",
              "      padding: 0 0 0 0;\n",
              "      width: 32px;\n",
              "    }\n",
              "\n",
              "    .colab-df-convert:hover {\n",
              "      background-color: #E2EBFA;\n",
              "      box-shadow: 0px 1px 2px rgba(60, 64, 67, 0.3), 0px 1px 3px 1px rgba(60, 64, 67, 0.15);\n",
              "      fill: #174EA6;\n",
              "    }\n",
              "\n",
              "    [theme=dark] .colab-df-convert {\n",
              "      background-color: #3B4455;\n",
              "      fill: #D2E3FC;\n",
              "    }\n",
              "\n",
              "    [theme=dark] .colab-df-convert:hover {\n",
              "      background-color: #434B5C;\n",
              "      box-shadow: 0px 1px 3px 1px rgba(0, 0, 0, 0.15);\n",
              "      filter: drop-shadow(0px 1px 2px rgba(0, 0, 0, 0.3));\n",
              "      fill: #FFFFFF;\n",
              "    }\n",
              "  </style>\n",
              "\n",
              "      <script>\n",
              "        const buttonEl =\n",
              "          document.querySelector('#df-64b83345-883e-46f5-a407-65d9f46f0148 button.colab-df-convert');\n",
              "        buttonEl.style.display =\n",
              "          google.colab.kernel.accessAllowed ? 'block' : 'none';\n",
              "\n",
              "        async function convertToInteractive(key) {\n",
              "          const element = document.querySelector('#df-64b83345-883e-46f5-a407-65d9f46f0148');\n",
              "          const dataTable =\n",
              "            await google.colab.kernel.invokeFunction('convertToInteractive',\n",
              "                                                     [key], {});\n",
              "          if (!dataTable) return;\n",
              "\n",
              "          const docLinkHtml = 'Like what you see? Visit the ' +\n",
              "            '<a target=\"_blank\" href=https://colab.research.google.com/notebooks/data_table.ipynb>data table notebook</a>'\n",
              "            + ' to learn more about interactive tables.';\n",
              "          element.innerHTML = '';\n",
              "          dataTable['output_type'] = 'display_data';\n",
              "          await google.colab.output.renderOutput(dataTable, element);\n",
              "          const docLink = document.createElement('div');\n",
              "          docLink.innerHTML = docLinkHtml;\n",
              "          element.appendChild(docLink);\n",
              "        }\n",
              "      </script>\n",
              "    </div>\n",
              "  </div>\n",
              "  "
            ]
          },
          "metadata": {},
          "execution_count": 20
        }
      ]
    },
    {
      "cell_type": "code",
      "source": [
        "input_cols = ['Mileage','Cylinder','Make','Model','Type','Liter','Doors','Cruise','Sound','Leather']\n",
        "X = df1[input_cols]\n",
        "Y = df1['Price'].values.reshape(-1,1)\n",
        "model1 = LinearRegression()\n",
        "model1.fit(X,Y)\n",
        "print(\"Intercept:{} ,Coefficients:{}\".format(model1.intercept_, model1.coef_))\n",
        "model1.score(X,Y)"
      ],
      "metadata": {
        "colab": {
          "base_uri": "https://localhost:8080/"
        },
        "id": "EUJUQs3X-1gA",
        "outputId": "807f945a-1fde-4a67-88c3-3322b5ff609f"
      },
      "execution_count": 21,
      "outputs": [
        {
          "output_type": "stream",
          "name": "stdout",
          "text": [
            "Intercept:[3039.64350271] ,Coefficients:[[-1.71673657e-01  4.87578755e+03  8.32075788e+02 -2.05034394e+02\n",
            "   4.31124572e+01 -8.92252597e+02 -1.50175555e+03  5.14099964e+03\n",
            "  -1.33287926e+03  2.77089529e+03]]\n"
          ]
        },
        {
          "output_type": "execute_result",
          "data": {
            "text/plain": [
              "0.48569139005488515"
            ]
          },
          "metadata": {},
          "execution_count": 21
        }
      ]
    },
    {
      "cell_type": "code",
      "source": [
        "combos = input_combos(input_cols)"
      ],
      "metadata": {
        "id": "xm89sIkl-5wl"
      },
      "execution_count": 27,
      "outputs": []
    },
    {
      "cell_type": "code",
      "source": [
        "def combo_r2scores( all_combos, df, output='Price'):\n",
        "    combo_scores = {}\n",
        "    for i in range(len(list(all_combos))):\n",
        "        for j in list(all_combos[i]):\n",
        "            X = df[list(j)]\n",
        "            Y = df['Price']\n",
        "            model = LinearRegression().fit(X,Y)\n",
        "            combo_scores[model.score(X,Y)] = j\n",
        "    return combo_scores"
      ],
      "metadata": {
        "id": "_cz-nnXV_aiI"
      },
      "execution_count": 28,
      "outputs": []
    },
    {
      "cell_type": "code",
      "source": [
        "output_dict = combo_r2scores(combos,df1,'Price')"
      ],
      "metadata": {
        "id": "ci3S_nw8_eMR"
      },
      "execution_count": 29,
      "outputs": []
    },
    {
      "cell_type": "code",
      "source": [
        "max(output_dict)"
      ],
      "metadata": {
        "colab": {
          "base_uri": "https://localhost:8080/"
        },
        "id": "1_CmvuBz_hCL",
        "outputId": "6b98b6f8-9ef1-475c-8eb8-ac106e4d9dc7"
      },
      "execution_count": 30,
      "outputs": [
        {
          "output_type": "execute_result",
          "data": {
            "text/plain": [
              "0.48569139005488515"
            ]
          },
          "metadata": {},
          "execution_count": 30
        }
      ]
    },
    {
      "cell_type": "code",
      "source": [
        "output_dict[0.48569139005488515] #This combination gives the maximum r2_score"
      ],
      "metadata": {
        "colab": {
          "base_uri": "https://localhost:8080/"
        },
        "id": "ZH5Uhx7M_mQe",
        "outputId": "49c6fb2b-1770-40e9-ba60-65872b765d66"
      },
      "execution_count": 31,
      "outputs": [
        {
          "output_type": "execute_result",
          "data": {
            "text/plain": [
              "('Mileage',\n",
              " 'Cylinder',\n",
              " 'Make',\n",
              " 'Model',\n",
              " 'Type',\n",
              " 'Liter',\n",
              " 'Doors',\n",
              " 'Cruise',\n",
              " 'Sound',\n",
              " 'Leather')"
            ]
          },
          "metadata": {},
          "execution_count": 31
        }
      ]
    },
    {
      "cell_type": "code",
      "source": [
        "import seaborn as sns\n",
        "sns.heatmap(df.corr(), annot=True)"
      ],
      "metadata": {
        "colab": {
          "base_uri": "https://localhost:8080/",
          "height": 319
        },
        "id": "fjRCP4vP_nk6",
        "outputId": "8d933225-7718-4438-887e-735352b38cae"
      },
      "execution_count": 33,
      "outputs": [
        {
          "output_type": "execute_result",
          "data": {
            "text/plain": [
              "<AxesSubplot:>"
            ]
          },
          "metadata": {},
          "execution_count": 33
        },
        {
          "output_type": "display_data",
          "data": {
            "text/plain": [
              "<Figure size 432x288 with 2 Axes>"
            ],
            "image/png": "[encoded data removed]"
          },
          "metadata": {
            "needs_background": "light"
          }
        }
      ]
    },
    {
      "cell_type": "markdown",
      "source": [
        "### Final"
      ],
      "metadata": {
        "id": "26hTQvL0AC7p"
      }
    },
    {
      "cell_type": "code",
      "source": [
        "df1 = df.copy()\n"
      ],
      "metadata": {
        "id": "70BrMc98_35Y"
      },
      "execution_count": 34,
      "outputs": []
    },
    {
      "cell_type": "code",
      "source": [
        "df1['Model'] = df1['Model'].astype('category')\n",
        "df1['Model'] = df1['Model'].cat.codes"
      ],
      "metadata": {
        "id": "RXM1Ew5uAHyq"
      },
      "execution_count": 35,
      "outputs": []
    },
    {
      "cell_type": "code",
      "source": [
        "df_dummies = pd.get_dummies(df1, columns = ['Make','Type'])"
      ],
      "metadata": {
        "id": "xF_I9CvkAKt1"
      },
      "execution_count": 36,
      "outputs": []
    },
    {
      "cell_type": "code",
      "source": [
        "input_cols=['Mileage', 'Cylinder','Liter','Model','Doors', 'Cruise',\n",
        "       'Sound', 'Leather', 'Make_Buick', 'Make_Cadillac', 'Make_Chevrolet',\n",
        "       'Make_Pontiac', 'Make_SAAB', 'Make_Saturn','Type_Convertible', 'Type_Coupe',\n",
        "       'Type_Hatchback', 'Type_Sedan', 'Type_Wagon']"
      ],
      "metadata": {
        "id": "p02rBd9dANx1"
      },
      "execution_count": 37,
      "outputs": []
    },
    {
      "cell_type": "code",
      "source": [
        "X = df_dummies[input_cols]"
      ],
      "metadata": {
        "id": "EAvF0WFeAQou"
      },
      "execution_count": 38,
      "outputs": []
    },
    {
      "cell_type": "code",
      "source": [
        "Y = df['Price'].values.reshape(-1,1)\n",
        "model1 = LinearRegression()\n",
        "model1.fit(X,Y)\n",
        "print(\"Intercept:{} ,Coefficients:{}\".format(model1.intercept_, model1.coef_))\n",
        "model1.score(X,Y)"
      ],
      "metadata": {
        "colab": {
          "base_uri": "https://localhost:8080/"
        },
        "id": "FU7qyxtXAUnq",
        "outputId": "748b4f80-d9b5-4ccc-b962-220b806ae9c6"
      },
      "execution_count": 39,
      "outputs": [
        {
          "output_type": "stream",
          "name": "stdout",
          "text": [
            "Intercept:[23377.98090878] ,Coefficients:[[-1.84575188e-01 -1.25812618e+03  5.68575195e+03  5.86830951e+01\n",
            "  -2.09123334e+03  1.81499295e+02  2.05060415e+02  2.89961148e+02\n",
            "  -3.96158031e+03  1.22141649e+04 -5.27969841e+03 -5.52735103e+03\n",
            "   7.75088755e+03 -5.19642271e+03  6.49494131e+03 -5.44932464e+03\n",
            "  -1.57653214e+03 -1.46170953e+03  1.99262500e+03]]\n"
          ]
        },
        {
          "output_type": "execute_result",
          "data": {
            "text/plain": [
              "0.9376502168807379"
            ]
          },
          "metadata": {},
          "execution_count": 39
        }
      ]
    },
    {
      "cell_type": "code",
      "source": [
        "# trying without model field\n",
        "df_dummies = pd.get_dummies(df1, columns = ['Make','Type'])"
      ],
      "metadata": {
        "id": "CM4syALXAX5z"
      },
      "execution_count": 40,
      "outputs": []
    },
    {
      "cell_type": "code",
      "source": [
        "input_cols=['Mileage', 'Cylinder','Liter','Doors', 'Cruise',\n",
        "       'Sound', 'Leather', 'Make_Buick', 'Make_Cadillac', 'Make_Chevrolet',\n",
        "       'Make_Pontiac', 'Make_SAAB', 'Make_Saturn','Type_Convertible', 'Type_Coupe',\n",
        "       'Type_Hatchback', 'Type_Sedan', 'Type_Wagon']"
      ],
      "metadata": {
        "id": "yODmJem_AsS8"
      },
      "execution_count": 41,
      "outputs": []
    },
    {
      "cell_type": "code",
      "source": [
        "X = df_dummies[input_cols]"
      ],
      "metadata": {
        "id": "emimk0tnAu2n"
      },
      "execution_count": 42,
      "outputs": []
    },
    {
      "cell_type": "code",
      "source": [
        "from sklearn.linear_model import LinearRegression\n",
        "from sklearn.metrics import r2_score\n",
        "Y = df['Price'].values.reshape(-1,1)\n",
        "model1 = LinearRegression()\n",
        "model1.fit(X,Y)\n",
        "print(\"Intercept:{} ,Coefficients:{}\".format(model1.intercept_, model1.coef_))\n",
        "model1.score(X,Y)"
      ],
      "metadata": {
        "colab": {
          "base_uri": "https://localhost:8080/"
        },
        "id": "Bz8rL9WVAyfa",
        "outputId": "3ef64655-829a-4f5c-b058-b39fc3c2906f"
      },
      "execution_count": 43,
      "outputs": [
        {
          "output_type": "stream",
          "name": "stdout",
          "text": [
            "Intercept:[23983.77190962] ,Coefficients:[[-1.84862466e-01 -1.22610774e+03  5.76120797e+03 -2.06693208e+03\n",
            "   1.11145653e+02  2.95622523e+02  2.34258573e+02 -3.58669276e+03\n",
            "   1.22732515e+04 -5.33495094e+03 -5.47974129e+03  6.95098389e+03\n",
            "  -4.82285042e+03  6.52818455e+03 -5.49471851e+03 -1.71994175e+03\n",
            "  -1.69110942e+03  2.37758514e+03]]\n"
          ]
        },
        {
          "output_type": "execute_result",
          "data": {
            "text/plain": [
              "0.9363889951039477"
            ]
          },
          "metadata": {},
          "execution_count": 43
        }
      ]
    },
    {
      "cell_type": "markdown",
      "source": [
        "There is very less difference in R^2 score"
      ],
      "metadata": {
        "id": "tt7yz3KlA3YU"
      }
    },
    {
      "cell_type": "markdown",
      "source": [
        "The combination of 'Mileage', 'Cylinder','Liter','Doors', 'Cruise','Sound','Leather','Make' and 'Type' is best combination of features for the linear regression model."
      ],
      "metadata": {
        "id": "3bpUw-HhBAOq"
      }
    }
  ],
  "metadata": {
    "kernelspec": {
      "display_name": "Python 3",
      "language": "python",
      "name": "python3"
    },
    "language_info": {
      "codemirror_mode": {
        "name": "ipython",
        "version": 3
      },
      "file_extension": ".py",
      "mimetype": "text/x-python",
      "name": "python",
      "nbconvert_exporter": "python",
      "pygments_lexer": "ipython3",
      "version": "3.8.3"
    },
    "colab": {
      "provenance": []
    }
  },
  "nbformat": 4,
  "nbformat_minor": 0
}